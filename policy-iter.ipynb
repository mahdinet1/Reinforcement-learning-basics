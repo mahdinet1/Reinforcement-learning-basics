{
 "cells": [
  {
   "cell_type": "code",
   "execution_count": 77,
   "metadata": {},
   "outputs": [],
   "source": [
    "ALL_ACTIONS = (\"U\",\"D\",\"R\",\"L\")\n",
    "class Grid:\n",
    "    def __init__(self,dimension,start) -> None:\n",
    "        rows , cols = dimension\n",
    "        i , j = start\n",
    "        self.cols = cols\n",
    "        self.rows = rows\n",
    "        self.i = i\n",
    "        self.j = j\n",
    "    def set(self,rewards,actions):\n",
    "        self.rewards = rewards\n",
    "        self.actions = actions\n",
    "    def set_state(self,point):\n",
    "        self.i = point[0]\n",
    "        self.j = point[1]\n",
    "    def get_current_state(self):\n",
    "        return (self.i,self.j)\n",
    "    def is_end(self,state):\n",
    "        return state not in self.actions\n",
    "    def get_next_state(self,state,action):\n",
    "        (i,j) = state\n",
    "        if action == 'U':\n",
    "                i -= 1\n",
    "        elif action == 'D':\n",
    "            i += 1\n",
    "        elif action == 'R':\n",
    "            j += 1\n",
    "        elif action == 'L':\n",
    "            j -= 1\n",
    "        return (i,j)\n",
    "    def get_all_states(self):\n",
    "        return set(self.actions.keys()) | set(self.rewards.keys())\n",
    "    \n",
    "    "
   ]
  },
  {
   "cell_type": "code",
   "execution_count": 78,
   "metadata": {},
   "outputs": [],
   "source": [
    "def standard_grid():\n",
    "\n",
    "    # .  .  .  1\n",
    "    # .  x  . -1\n",
    "    # s  .  .  .\n",
    "    grid = Grid((3, 4), (2, 0))\n",
    "    rewards = {(0, 3): 1, (1, 3): -1}\n",
    "    actions = {\n",
    "        (0, 0): ('D', 'R'),\n",
    "        (0, 1): ('L', 'R'),\n",
    "        (0, 2): ('L', 'D', 'R'),\n",
    "        (1, 0): ('U', 'D'),\n",
    "        (1, 2): ('U', 'D', 'R'),\n",
    "        (2, 0): ('U', 'R'),\n",
    "        (2, 1): ('L', 'R'),\n",
    "        (2, 2): ('L', 'R', 'U'),\n",
    "        (2, 3): ('L', 'U'),\n",
    "        }\n",
    "    grid.set(rewards,actions)\n",
    "    return grid"
   ]
  },
  {
   "cell_type": "code",
   "execution_count": 133,
   "metadata": {},
   "outputs": [
    {
     "name": "stdout",
     "output_type": "stream",
     "text": [
      "{((0, 2), 'R', (0, 3)): 1, ((1, 2), 'R', (1, 3)): -1, ((2, 3), 'U', (1, 3)): -1}\n",
      "---------------\n",
      "{((0, 0), 'U', (-1, 0)): 1, ((0, 0), 'D', (1, 0)): 1, ((0, 0), 'R', (0, 1)): 1, ((0, 0), 'L', (0, -1)): 1, ((0, 1), 'U', (-1, 1)): 1, ((0, 1), 'D', (1, 1)): 1, ((0, 1), 'R', (0, 2)): 1, ((0, 1), 'L', (0, 0)): 1, ((0, 2), 'U', (-1, 2)): 1, ((0, 2), 'D', (1, 2)): 1, ((0, 2), 'R', (0, 3)): 1, ((0, 2), 'L', (0, 1)): 1, ((1, 0), 'U', (0, 0)): 1, ((1, 0), 'D', (2, 0)): 1, ((1, 0), 'R', (1, 1)): 1, ((1, 0), 'L', (1, -1)): 1, ((1, 2), 'U', (0, 2)): 1, ((1, 2), 'D', (2, 2)): 1, ((1, 2), 'R', (1, 3)): 1, ((1, 2), 'L', (1, 1)): 1, ((2, 0), 'U', (1, 0)): 1, ((2, 0), 'D', (3, 0)): 1, ((2, 0), 'R', (2, 1)): 1, ((2, 0), 'L', (2, -1)): 1, ((2, 1), 'U', (1, 1)): 1, ((2, 1), 'D', (3, 1)): 1, ((2, 1), 'R', (2, 2)): 1, ((2, 1), 'L', (2, 0)): 1, ((2, 2), 'U', (1, 2)): 1, ((2, 2), 'D', (3, 2)): 1, ((2, 2), 'R', (2, 3)): 1, ((2, 2), 'L', (2, 1)): 1, ((2, 3), 'U', (1, 3)): 1, ((2, 3), 'D', (3, 3)): 1, ((2, 3), 'R', (2, 4)): 1, ((2, 3), 'L', (2, 2)): 1}\n"
     ]
    }
   ],
   "source": [
    "grid  = standard_grid()\n",
    "transition_probs = {}\n",
    "rewards = {}\n",
    "for row in range(grid.rows):\n",
    "    for col in range(grid.cols):\n",
    "        state = (row,col)\n",
    "        \n",
    "        \n",
    "        if not grid.is_end(state):\n",
    "            for action in ALL_ACTIONS:\n",
    "                next_state = grid.get_next_state(state,action)\n",
    "                transition_probs[(state,action,next_state)] = 1\n",
    "                if next_state in grid.rewards:\n",
    "                    rewards[(state,action,next_state)] = grid.rewards[next_state]\n",
    "\n",
    "print(rewards)\n",
    "print(\"---------------\")\n",
    "print(transition_probs)"
   ]
  },
  {
   "cell_type": "code",
   "execution_count": 46,
   "metadata": {},
   "outputs": [
    {
     "name": "stdout",
     "output_type": "stream",
     "text": [
      "---------------------------\n",
      " 0.00| 0.00| 0.00| 0.00|\n",
      "---------------------------\n",
      " 0.00| 0.00| 0.00| 0.00|\n",
      "---------------------------\n",
      " 0.00| 0.00| 0.00| 0.00|\n"
     ]
    }
   ],
   "source": [
    "def print_values(V, g):\n",
    "    for i in range(g.rows):\n",
    "        print(\"---------------------------\")\n",
    "        for j in range(g.cols):\n",
    "            v = V.get((i, j), 0)\n",
    "            if v >= 0:\n",
    "                print(\" %.2f|\" % v, end=\"\")\n",
    "            else:\n",
    "                print(\"%.2f|\" % v, end=\"\")  \n",
    "        print(\"\")\n",
    "\n",
    "\n",
    "def print_policy(P, g):\n",
    "    for i in range(g.rows):\n",
    "        print(\"---------------------------\")\n",
    "        for j in range(g.cols):\n",
    "            a = P.get((i, j), \" \")\n",
    "            print(\"  %s  |\" % a, end=\"\")\n",
    "        print(\"\")\n",
    "V={}\n",
    "print_values(V,grid)"
   ]
  },
  {
   "cell_type": "code",
   "execution_count": 104,
   "metadata": {},
   "outputs": [
    {
     "name": "stdout",
     "output_type": "stream",
     "text": [
      "---------------------------\n",
      " 0.81| 0.90| 1.00| 0.00|\n",
      "---------------------------\n",
      " 0.73| 0.00| 0.90| 0.00|\n",
      "---------------------------\n",
      " 0.66| 0.73| 0.81| 0.73|\n"
     ]
    }
   ],
   "source": [
    "iteration = 0\n",
    "policy = {\n",
    "(2, 0): 'U',\n",
    "(1, 0): 'U',\n",
    "(0, 0): 'R',\n",
    "(0, 1): 'R',\n",
    "(0, 2): 'R',\n",
    "(1, 2): 'U',\n",
    "(2, 1): 'R',\n",
    "(2, 2): 'U',\n",
    "(2, 3): 'L',\n",
    "(1, 1): 'X',\n",
    "(1, 3): 'H',\n",
    "(0, 3): 'G'\n",
    "}\n",
    "V= {}\n",
    "for s in grid.get_all_states():\n",
    "    V[s] = 0\n",
    "while True:\n",
    "    for state in grid.get_all_states():\n",
    "        if not grid.is_end(state):\n",
    "            new_v = 0\n",
    "            for action in ALL_ACTIONS:\n",
    "                for next_state in grid.get_all_states():\n",
    "                    #deteministic actions:\n",
    "                    action_prob = 1 if policy.get(state) == action else 0\n",
    "                \n",
    "                    r = rewards.get((state, action, next_state), 0)\n",
    "                    new_v += action_prob * transition_probs.get((state, action, next_state), 0) * (r + 0.9 * V[next_state])\n",
    "                    \n",
    "                    \n",
    "            V[state] = new_v\n",
    "            \n",
    "    \n",
    "    \n",
    "    iteration = iteration+1\n",
    "\n",
    "    if iteration == 10:\n",
    "        break\n",
    "print_values(V, grid)"
   ]
  },
  {
   "cell_type": "code",
   "execution_count": 85,
   "metadata": {},
   "outputs": [
    {
     "name": "stdout",
     "output_type": "stream",
     "text": [
      "---------------------------\n",
      "  R  |  R  |  R  |  G  |\n",
      "---------------------------\n",
      "  U  |  X  |  U  |  H  |\n",
      "---------------------------\n",
      "  U  |  R  |  U  |  L  |\n"
     ]
    }
   ],
   "source": [
    "iteration = 0\n",
    "policy = {\n",
    "(2, 0): 'U',\n",
    "(1, 0): 'U',\n",
    "(0, 0): 'R',\n",
    "(0, 1): 'R',\n",
    "(0, 2): 'R',\n",
    "(1, 2): 'U',\n",
    "(2, 1): 'R',\n",
    "(2, 2): 'U',\n",
    "(2, 3): 'L',\n",
    "(1, 1): 'X',\n",
    "(1, 3): 'H',\n",
    "(0, 3): 'G'\n",
    "}\n",
    "\n",
    "while True:\n",
    "    is_policy_converged = True\n",
    "    iteration += 1\n",
    "    for state in grid.actions.keys():\n",
    "        best_val = float('-inf')\n",
    "        for action in ALL_ACTIONS:\n",
    "            v = 0\n",
    "            for next_state in grid.get_all_states():\n",
    "                r = rewards.get((state,action,next_state),0)\n",
    "                v += transition_probs.get((state,action,next_state),0) * (r + 0.9 *V[next_state])\n",
    "            if v > best_val:\n",
    "                best_action = action\n",
    "                best_val = v\n",
    "        if best_action != policy[state]:\n",
    "            is_policy_converged = False\n",
    "        policy[state] = best_action\n",
    "    if is_policy_converged:\n",
    "        break\n",
    "\n",
    "print_policy(policy,grid)"
   ]
  },
  {
   "cell_type": "code",
   "execution_count": 178,
   "metadata": {},
   "outputs": [],
   "source": [
    "import numpy as np\n",
    "q_table = np.zeros((grid.rows,grid.cols,len(ALL_ACTIONS)))\n",
    "V= {}\n",
    "for s in grid.get_all_states():\n",
    "    V[s] = 0\n",
    "iteration =0\n",
    "policy = {\n",
    "(2, 0): 'U',\n",
    "(1, 0): 'U',\n",
    "(0, 0): 'R',\n",
    "(0, 1): 'R',\n",
    "(0, 2): 'R',\n",
    "(1, 2): 'U',\n",
    "(2, 1): 'R',\n",
    "(2, 2): 'U',\n",
    "(2, 3): 'L',\n",
    "(1, 1): 'X',\n",
    "(1, 3): 'H',\n",
    "(0, 3): 'G'\n",
    "}\n",
    "while True:\n",
    "    biggest_change = 0  # To check for convergence\n",
    "    for state in grid.get_all_states():\n",
    "        if not grid.is_end(state):\n",
    "            old_v = V[state]\n",
    "            \n",
    "            # Loop through each possible action to get the Q-values\n",
    "            for action in ALL_ACTIONS:\n",
    "                new_v = 0\n",
    "                for next_state in grid.get_all_states():\n",
    "                    # deterministic actions:\n",
    "                    action_prob = 1 if policy.get(state) == action else 0\n",
    "                    r = rewards.get((state, action, next_state), 0)\n",
    "                    new_v += action_prob * transition_probs.get((state, action, next_state), 0) * (r + 0.9 * V[next_state])\n",
    "                q_table[state[0], state[1], ALL_ACTIONS.index(action)] = new_v\n",
    "                \n",
    "            # Update V for the state with the max Q-value\n",
    "            V[state] = np.max(q_table[state[0], state[1], :])\n",
    "            \n",
    "            # Check for the biggest change in V values\n",
    "            biggest_change = max(biggest_change, abs(old_v - V[state]))\n",
    "    iteration += 1\n",
    "    # Stopping criteria: convergence or a fixed number of iterations\n",
    "    if biggest_change < 1e-3 or iteration == 1000:\n",
    "        break\n",
    "\n",
    "# Extract policy based on Q-values\n",
    "for state in grid.get_all_states():\n",
    "    if not grid.is_end(state):\n",
    "        policy[state] = ALL_ACTIONS[np.argmax(q_table[state[0], state[1], :])]\n",
    "\n"
   ]
  },
  {
   "cell_type": "code",
   "execution_count": 179,
   "metadata": {},
   "outputs": [
    {
     "name": "stdout",
     "output_type": "stream",
     "text": [
      "---------------------------\n",
      "  R  |  R  |  R  |  G  |\n",
      "---------------------------\n",
      "  U  |  X  |  U  |  H  |\n",
      "---------------------------\n",
      "  U  |  R  |  U  |  L  |\n"
     ]
    }
   ],
   "source": [
    "print_policy(policy,grid)"
   ]
  },
  {
   "cell_type": "code",
   "execution_count": 180,
   "metadata": {},
   "outputs": [
    {
     "data": {
      "text/plain": [
       "4"
      ]
     },
     "execution_count": 180,
     "metadata": {},
     "output_type": "execute_result"
    }
   ],
   "source": [
    "iteration"
   ]
  },
  {
   "cell_type": "code",
   "execution_count": null,
   "metadata": {},
   "outputs": [],
   "source": []
  }
 ],
 "metadata": {
  "kernelspec": {
   "display_name": "base",
   "language": "python",
   "name": "python3"
  },
  "language_info": {
   "codemirror_mode": {
    "name": "ipython",
    "version": 3
   },
   "file_extension": ".py",
   "mimetype": "text/x-python",
   "name": "python",
   "nbconvert_exporter": "python",
   "pygments_lexer": "ipython3",
   "version": "3.9.7"
  },
  "orig_nbformat": 4
 },
 "nbformat": 4,
 "nbformat_minor": 2
}
