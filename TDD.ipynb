{
 "cells": [
  {
   "cell_type": "code",
   "execution_count": 23,
   "metadata": {},
   "outputs": [],
   "source": [
    "ALL_ACTIONS = (\"U\",\"D\",\"R\",\"L\")\n",
    "class Grid:\n",
    "    def __init__(self,dimension,start) -> None:\n",
    "        rows , cols = dimension\n",
    "        i , j = start\n",
    "        self.cols = cols\n",
    "        self.rows = rows\n",
    "        self.i = i\n",
    "        self.j = j\n",
    "    def set(self,rewards,actions):\n",
    "        self.rewards = rewards\n",
    "        self.actions = actions\n",
    "    def set_state(self,point):\n",
    "        self.i = point[0]\n",
    "        self.j = point[1]\n",
    "    def get_current_state(self):\n",
    "        return (self.i,self.j)\n",
    "    def is_end(self,state):\n",
    "        return state not in self.actions\n",
    "    def get_next_state(self,state,action):\n",
    "        (i,j) = state\n",
    "        if action == 'U':\n",
    "                i -= 1\n",
    "        elif action == 'D':\n",
    "            i += 1\n",
    "        elif action == 'R':\n",
    "            j += 1\n",
    "        elif action == 'L':\n",
    "            j -= 1\n",
    "        return (i,j)\n",
    "    def move(self, action):\n",
    "    # check if legal move first\n",
    "        if action in self.actions[(self.i, self.j)]:\n",
    "            if action == 'U':\n",
    "                self.i -= 1\n",
    "            elif action == 'D':\n",
    "                self.i += 1\n",
    "            elif action == 'R':\n",
    "                self.j += 1\n",
    "            elif action == 'L':\n",
    "                self.j -= 1\n",
    "        return self.rewards.get((self.i, self.j), 0)\n",
    "    def get_all_states(self):\n",
    "        return set(self.actions.keys()) | set(self.rewards.keys())\n",
    "    \n",
    "    "
   ]
  },
  {
   "cell_type": "code",
   "execution_count": 24,
   "metadata": {},
   "outputs": [],
   "source": [
    "def standard_grid():\n",
    "\n",
    "    # .  .  .  1\n",
    "    # .  x  . -1\n",
    "    # s  .  .  .\n",
    "    grid = Grid((3, 4), (2, 0))\n",
    "    rewards = {(0, 3): 1, (1, 3): -1}\n",
    "    actions = {\n",
    "        (0, 0): ('D', 'R'),\n",
    "        (0, 1): ('L', 'R'),\n",
    "        (0, 2): ('L', 'D', 'R'),\n",
    "        (1, 0): ('U', 'D'),\n",
    "        (1, 2): ('U', 'D', 'R'),\n",
    "        (2, 0): ('U', 'R'),\n",
    "        (2, 1): ('L', 'R'),\n",
    "        (2, 2): ('L', 'R', 'U'),\n",
    "        (2, 3): ('L', 'U'),\n",
    "        }\n",
    "    grid.set(rewards,actions)\n",
    "    return grid"
   ]
  },
  {
   "cell_type": "code",
   "execution_count": 25,
   "metadata": {},
   "outputs": [],
   "source": [
    "grid  = standard_grid()"
   ]
  },
  {
   "cell_type": "code",
   "execution_count": 27,
   "metadata": {},
   "outputs": [],
   "source": [
    "import numpy as np\n",
    "def take_action(policy,state,eps = 0.1):\n",
    "    if np.random.random() < eps:\n",
    "        return np.random.choice(ALL_ACTIONS)\n",
    "    else:\n",
    "        return policy[state]"
   ]
  },
  {
   "cell_type": "code",
   "execution_count": 49,
   "metadata": {},
   "outputs": [],
   "source": [
    "\n",
    "def play_game(grid,policy):\n",
    "    state = (2,0)\n",
    "    grid.set_state(state)\n",
    "    state_and_rewards = [(state,0)]\n",
    "    while not grid.is_end(grid.get_current_state()):\n",
    "        a = take_action(policy,state)\n",
    "        rew = grid.move(a)\n",
    "        next_state = grid.get_current_state()\n",
    "        state_and_rewards.append((next_state,rew))\n",
    "    return state_and_rewards"
   ]
  },
  {
   "cell_type": "code",
   "execution_count": 60,
   "metadata": {},
   "outputs": [],
   "source": [
    "V = {}\n",
    "ALPHA = 0.1\n",
    "GAMMA = 0.9\n",
    "policy = {\n",
    "(2, 0): 'R',\n",
    "(1, 0): 'D',\n",
    "(0, 0): 'R',\n",
    "(0, 1): 'R',\n",
    "(0, 2): 'L',\n",
    "(1, 2): 'D',\n",
    "(2, 1): 'R',\n",
    "(2, 2): 'R',\n",
    "(2, 3): 'U',\n",
    "}\n",
    "for i in grid.get_all_states():\n",
    "    if i in grid.rewards.keys():\n",
    "        V[i] = grid.rewards[i]\n",
    "    else:\n",
    "        V[i] = 0\n",
    "\n",
    "for i in range (20000):\n",
    "    state_and_rewards = play_game(grid,policy)\n",
    "    # print(state_and_rewards)\n",
    "    for t in range(len(state_and_rewards) - 1):\n",
    "        state,_ = state_and_rewards[t]\n",
    "        next_state,rew = state_and_rewards[t+1]\n",
    "        V[state] += ALPHA * (rew + GAMMA * V[next_state] - V[state])\n"
   ]
  },
  {
   "cell_type": "code",
   "execution_count": 52,
   "metadata": {},
   "outputs": [],
   "source": [
    "def print_values(V, g):\n",
    "    for i in range(g.rows):\n",
    "        print(\"---------------------------\")\n",
    "        for j in range(g.cols):\n",
    "            v = V.get((i, j), 0)\n",
    "            if v >= 0:\n",
    "                print(\" %.2f|\" % v, end=\"\")\n",
    "            else:\n",
    "                print(\"%.2f|\" % v, end=\"\")  \n",
    "        print(\"\")\n",
    "\n",
    "\n",
    "def print_policy(P, g):\n",
    "    for i in range(g.rows):\n",
    "        print(\"---------------------------\")\n",
    "        for j in range(g.cols):\n",
    "            a = P.get((i, j), \" \")\n",
    "            print(\"  %s  |\" % a, end=\"\")\n",
    "        print(\"\")\n",
    "\n"
   ]
  },
  {
   "cell_type": "code",
   "execution_count": 61,
   "metadata": {},
   "outputs": [
    {
     "name": "stdout",
     "output_type": "stream",
     "text": [
      "---------------------------\n",
      " 1.40| 1.59| 1.84| 1.00|\n",
      "---------------------------\n",
      " 0.28| 0.00|-1.64|-1.00|\n",
      "---------------------------\n",
      "-0.34|-0.36|-0.43|-0.46|\n"
     ]
    }
   ],
   "source": [
    "print_values(V,grid)"
   ]
  },
  {
   "cell_type": "code",
   "execution_count": null,
   "metadata": {},
   "outputs": [],
   "source": []
  }
 ],
 "metadata": {
  "kernelspec": {
   "display_name": "base",
   "language": "python",
   "name": "python3"
  },
  "language_info": {
   "codemirror_mode": {
    "name": "ipython",
    "version": 3
   },
   "file_extension": ".py",
   "mimetype": "text/x-python",
   "name": "python",
   "nbconvert_exporter": "python",
   "pygments_lexer": "ipython3",
   "version": "3.9.7"
  },
  "orig_nbformat": 4
 },
 "nbformat": 4,
 "nbformat_minor": 2
}
