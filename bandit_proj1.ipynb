{
 "cells": [
  {
   "cell_type": "markdown",
   "metadata": {},
   "source": [
    "# Epsilon"
   ]
  },
  {
   "cell_type": "code",
   "execution_count": 1,
   "metadata": {},
   "outputs": [
    {
     "name": "stdout",
     "output_type": "stream",
     "text": [
      "[(3, 2), (6, 2), (10, 2)]\n",
      "estimated: 2.8421364580122033 3\n",
      "estimated: 5.790279216689699 6\n",
      "estimated: 10.03023618958339 10\n",
      "n_opt 4682\n",
      "opt_est 2 opt 2\n"
     ]
    },
    {
     "data": {
      "image/png": "[encoded data removed]",
      "text/plain": [
       "<Figure size 432x288 with 1 Axes>"
      ]
     },
     "metadata": {
      "needs_background": "light"
     },
     "output_type": "display_data"
    }
   ],
   "source": [
    "import matplotlib.pyplot as plt\n",
    "import numpy as np\n",
    "\n",
    "LOOP_NUMBER = 5000\n",
    "\n",
    "MU = [3,6,10]\n",
    "SIGMA = [2,2,2]\n",
    "\n",
    "\n",
    "\n",
    "class Bandit():\n",
    "    def __init__(self,mu,sigma) -> None:\n",
    "        self.mu = mu\n",
    "        self.sigma = sigma\n",
    "        self.p_estimate = 0\n",
    "        self.N_selected = 0\n",
    "    def pull(self):\n",
    "        # we get award \n",
    "        return np.random.normal(self.mu,self.sigma)\n",
    "    def update(self,x) -> None:\n",
    "        self.N_selected +=1\n",
    "        self.p_estimate = (x + (self.N_selected - 1)* self.p_estimate) / self.N_selected\n",
    "    \n",
    "def experiment():\n",
    "    bandits = [Bandit(mu, sigma) for mu, sigma in zip(MU, SIGMA)]\n",
    "    rewards = np.zeros(LOOP_NUMBER)\n",
    "    n_exploied = 0\n",
    "    n_explore = 0\n",
    "    n_optimal = 0\n",
    "    optimal_j = np.argmax([b.mu for b in bandits])\n",
    "    print(list(zip(MU,SIGMA)))\n",
    "    EPS = 0.5\n",
    "    for i in range(LOOP_NUMBER):\n",
    "        if i % 1000 == 0:\n",
    "            EPS /=  2\n",
    "        if np.random.random() < EPS:\n",
    "            n_explore +=1\n",
    "            device = np.random.randint(len(bandits))\n",
    "        else:\n",
    "            n_exploied +=1\n",
    "            device = np.argmax([bandit.p_estimate for bandit in bandits])\n",
    "        \n",
    "        if device == optimal_j:\n",
    "            n_optimal +=1\n",
    "        \n",
    "        reward = bandits[device].pull()\n",
    "        rewards[i] = reward\n",
    "        bandits[device].update(reward)\n",
    "    for i in bandits:\n",
    "        print(\"estimated:\",i.p_estimate,i.mu)\n",
    "    print(\"n_opt\",n_optimal)\n",
    "    print(\"opt_est\",np.argmax([bandit.p_estimate for bandit in bandits]),\"opt\",optimal_j)\n",
    "    cum_rewards = np.cumsum(rewards)\n",
    "    win_rate = cum_rewards / (np.arange(LOOP_NUMBER) + 1)\n",
    "    plt.plot(np.ones(LOOP_NUMBER) * np.max(MU))\n",
    "    plt.plot(win_rate)\n",
    "    \n",
    "\n",
    "experiment()\n"
   ]
  },
  {
   "cell_type": "markdown",
   "metadata": {},
   "source": [
    "# UCB"
   ]
  },
  {
   "cell_type": "code",
   "execution_count": 2,
   "metadata": {},
   "outputs": [
    {
     "name": "stderr",
     "output_type": "stream",
     "text": [
      "C:\\Users\\MAHDIZ~1\\AppData\\Local\\Temp/ipykernel_10124/3016806112.py:23: RuntimeWarning: invalid value encountered in double_scalars\n",
      "  return mean + np.sqrt(2 * np.log(total_pull)/nj)\n",
      "C:\\Users\\MAHDIZ~1\\AppData\\Local\\Temp/ipykernel_10124/3016806112.py:23: RuntimeWarning: divide by zero encountered in double_scalars\n",
      "  return mean + np.sqrt(2 * np.log(total_pull)/nj)\n"
     ]
    },
    {
     "name": "stdout",
     "output_type": "stream",
     "text": [
      "estimated: 4.006191192556816 real-prob 3\n",
      "estimated: 4.785594638334133 real-prob 6\n",
      "estimated: 10.022058136232696 real-prob 10\n",
      "n_opt 4997\n",
      "opt_est 2 opt 2\n"
     ]
    },
    {
     "data": {
      "image/png": "[encoded data removed]",
      "text/plain": [
       "<Figure size 432x288 with 1 Axes>"
      ]
     },
     "metadata": {
      "needs_background": "light"
     },
     "output_type": "display_data"
    }
   ],
   "source": [
    "import matplotlib.pyplot as plt\n",
    "import numpy as np\n",
    "\n",
    "LOOP_NUMBER = 5000\n",
    "\n",
    "MU = [3,6,10]\n",
    "SIGMA = [2,2,2]\n",
    "\n",
    "\n",
    "class Bandit():\n",
    "    def __init__(self,mu,sigma) -> None:\n",
    "        self.mu = mu\n",
    "        self.sigma = sigma\n",
    "        self.p_estimate = 0\n",
    "        self.N_selected = 0\n",
    "    def pull(self):\n",
    "        # we get award or not \n",
    "        return np.random.normal(self.mu,self.sigma)\n",
    "    def update(self,x) -> None:\n",
    "        self.N_selected +=1\n",
    "        self.p_estimate = (x + (self.N_selected - 1)* self.p_estimate) / self.N_selected\n",
    "def ucb(mean,total_pull,nj):\n",
    "    return mean + np.sqrt(2 * np.log(total_pull)/nj)\n",
    "def experiment():\n",
    "    bandits = [Bandit(mu,sigma) for mu,sigma in zip(MU,SIGMA)]\n",
    "    rewards = np.zeros(LOOP_NUMBER)\n",
    "    n_exploied = 0\n",
    "    n_explore = 0\n",
    "    n_optimal = 0\n",
    "    optimal_j = np.argmax([bandit.mu for bandit in bandits])\n",
    "    for i in range(LOOP_NUMBER):\n",
    "        n_exploied +=1\n",
    "        device = np.argmax([ucb(bandit.p_estimate,i +1,bandit.N_selected) for bandit in bandits])\n",
    "        \n",
    "        if device == optimal_j:\n",
    "            n_optimal +=1\n",
    "        \n",
    "        reward = bandits[device].pull()\n",
    "        rewards[i] = reward\n",
    "        bandits[device].update(reward)\n",
    "    for i in bandits:\n",
    "        print(\"estimated:\",i.p_estimate,\"real-prob\",i.mu)\n",
    "    print(\"n_opt\",n_optimal)\n",
    "    print(\"opt_est\",np.argmax([bandit.p_estimate for bandit in bandits]),\"opt\",optimal_j)\n",
    "    cum_rewards = np.cumsum(rewards)\n",
    "    win_rate = cum_rewards / (np.arange(LOOP_NUMBER) + 1)\n",
    "    plt.plot(np.ones(LOOP_NUMBER) * np.max(MU))\n",
    "    plt.plot(win_rate)\n",
    "    \n",
    "\n",
    "experiment()"
   ]
  },
  {
   "cell_type": "code",
   "execution_count": null,
   "metadata": {},
   "outputs": [],
   "source": []
  }
 ],
 "metadata": {
  "kernelspec": {
   "display_name": "base",
   "language": "python",
   "name": "python3"
  },
  "language_info": {
   "codemirror_mode": {
    "name": "ipython",
    "version": 3
   },
   "file_extension": ".py",
   "mimetype": "text/x-python",
   "name": "python",
   "nbconvert_exporter": "python",
   "pygments_lexer": "ipython3",
   "version": "3.9.7"
  },
  "orig_nbformat": 4
 },
 "nbformat": 4,
 "nbformat_minor": 2
}
